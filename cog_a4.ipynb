{
  "nbformat": 4,
  "nbformat_minor": 0,
  "metadata": {
    "colab": {
      "provenance": [],
      "authorship_tag": "ABX9TyNF4nApM6SDdfmXbXeT9Wx/",
      "include_colab_link": true
    },
    "kernelspec": {
      "name": "python3",
      "display_name": "Python 3"
    },
    "language_info": {
      "name": "python"
    }
  },
  "cells": [
    {
      "cell_type": "markdown",
      "metadata": {
        "id": "view-in-github",
        "colab_type": "text"
      },
      "source": [
        "<a href=\"https://colab.research.google.com/github/jesse-venson/Cognitive/blob/main/cog_a4.ipynb\" target=\"_parent\"><img src=\"https://colab.research.google.com/assets/colab-badge.svg\" alt=\"Open In Colab\"/></a>"
      ]
    },
    {
      "cell_type": "code",
      "execution_count": 2,
      "metadata": {
        "colab": {
          "base_uri": "https://localhost:8080/"
        },
        "id": "Vd-70N-tVGqX",
        "outputId": "c8bbb13b-7913-4ef7-ed06-1019861ada16"
      },
      "outputs": [
        {
          "output_type": "stream",
          "name": "stdout",
          "text": [
            "Array after adding 2 to all elements: [3 4 5 6 7]\n",
            "after mul [ 3  6  9 12 15]\n",
            "after div [0.5 1.  1.5 2.  2.5]\n"
          ]
        }
      ],
      "source": [
        "#question 1\n",
        "import numpy as np\n",
        "arr=np.array([1,2,3,4,5])\n",
        "arr_add = arr + 2\n",
        "print(\"Array after adding 2 to all elements:\", arr_add)\n",
        "arr_mul= arr*3\n",
        "print(\"after mul\",arr_mul)\n",
        "arr_div= arr/2\n",
        "print(\"after div\",arr_div)\n",
        "\n"
      ]
    },
    {
      "cell_type": "code",
      "source": [
        "#question 2a\n",
        "import numpy as np\n",
        "arr=np.array([1,2,3,6,4,5])\n",
        "arr_reversed = arr[::-1]\n",
        "print(\"arr_reversed is\",arr_reversed)"
      ],
      "metadata": {
        "colab": {
          "base_uri": "https://localhost:8080/"
        },
        "id": "bwsDFVE-WYwq",
        "outputId": "9dc0ee1d-7d4a-49bb-d773-3ff386aa3617"
      },
      "execution_count": 3,
      "outputs": [
        {
          "output_type": "stream",
          "name": "stdout",
          "text": [
            "arr_reversed is [5 4 6 3 2 1]\n"
          ]
        }
      ]
    },
    {
      "cell_type": "code",
      "source": [
        "#question 2b\n",
        "import numpy as np\n",
        "\n",
        "x = np.array([1, 2, 3, 4, 5, 1, 2, 1, 1, 1])\n",
        "unique_values, counts = np.unique(x, return_counts=True)\n",
        "\n",
        "most_frequent_value = unique_values[np.argmax(counts)]\n",
        "\n",
        "indices = np.where(x == most_frequent_value)[0]\n",
        "\n",
        "print(f\"Most frequent value: {most_frequent_value}\")\n",
        "print(f\"Indices of most frequent value: {indices}\")\n",
        "\n",
        "\n",
        "y = np.array([1, 1, 1, 2, 3, 4, 2, 4, 3, 3, ])\n",
        "unique_values, counts = np.unique(y, return_counts=True)\n",
        "\n",
        "most_frequent_value = unique_values[np.argmax(counts)]\n",
        "\n",
        "indices = np.where(y == most_frequent_value)[0]\n",
        "\n",
        "print(f\"Most frequent value: {most_frequent_value}\")\n",
        "print(f\"Indices of most frequent value: {indices}\")\n"
      ],
      "metadata": {
        "colab": {
          "base_uri": "https://localhost:8080/"
        },
        "id": "21NghB4BYLmJ",
        "outputId": "ddd4b4f7-debe-46c5-cc71-a166b309187d"
      },
      "execution_count": 5,
      "outputs": [
        {
          "output_type": "stream",
          "name": "stdout",
          "text": [
            "Most frequent value: 1\n",
            "Indices of most frequent value: [0 5 7 8 9]\n",
            "Most frequent value: 1\n",
            "Indices of most frequent value: [0 1 2]\n"
          ]
        }
      ]
    },
    {
      "cell_type": "code",
      "source": [
        "#question 3\n",
        "import numpy as np\n",
        "arr=np.array([[10, 20, 30], [40, 50, 60], [70, 80, 90]])\n",
        "threea=arr[0,1]\n",
        "threeb=arr[2,0]\n",
        "print(\"first row second col \",threea )\n",
        "print(\"third row first col \",threeb)\n"
      ],
      "metadata": {
        "colab": {
          "base_uri": "https://localhost:8080/"
        },
        "id": "Rmhc12VfZqs3",
        "outputId": "5eb30aa0-0129-4ce3-b767-bb4a97bbe143"
      },
      "execution_count": 7,
      "outputs": [
        {
          "output_type": "stream",
          "name": "stdout",
          "text": [
            "first row second col  20\n",
            "third row first col  70\n"
          ]
        }
      ]
    },
    {
      "cell_type": "code",
      "source": [
        "#question 4\n",
        "import numpy as np\n",
        "venson=np.linspace(10,100,25)\n",
        "print(\"array is :\",venson)\n",
        "print(\"dimension of array: \",venson.ndim)\n",
        "print(\"shape of array: \",venson.shape)\n",
        "print(\"shape of array: \",venson.size)\n",
        "print(\"shape of array: \",venson.dtype)\n",
        "print(\"shape of array: \",venson.nbytes)\n",
        "transposed_array_reshape = venson.reshape((1, -1))\n",
        "print(\"Transpose using reshape():\", transposed_array_reshape)\n"
      ],
      "metadata": {
        "colab": {
          "base_uri": "https://localhost:8080/"
        },
        "id": "RALCSlGEbfY_",
        "outputId": "c80bd25c-ffcd-43d0-83fc-ce459e80bd28"
      },
      "execution_count": 10,
      "outputs": [
        {
          "output_type": "stream",
          "name": "stdout",
          "text": [
            "array is : [ 10.    13.75  17.5   21.25  25.    28.75  32.5   36.25  40.    43.75\n",
            "  47.5   51.25  55.    58.75  62.5   66.25  70.    73.75  77.5   81.25\n",
            "  85.    88.75  92.5   96.25 100.  ]\n",
            "dimension of array:  1\n",
            "shape of array:  (25,)\n",
            "shape of array:  25\n",
            "shape of array:  float64\n",
            "shape of array:  200\n",
            "Transpose using reshape(): [[ 10.    13.75  17.5   21.25  25.    28.75  32.5   36.25  40.    43.75\n",
            "   47.5   51.25  55.    58.75  62.5   66.25  70.    73.75  77.5   81.25\n",
            "   85.    88.75  92.5   96.25 100.  ]]\n"
          ]
        }
      ]
    },
    {
      "cell_type": "code",
      "source": [
        "#question 5\n",
        "import numpy as np\n",
        "ucs420_venson=np.array([[10, 20, 30, 40],\n",
        "                       [50, 60, 70, 80],\n",
        "                       [90, 15, 20, 35]])\n",
        "mean=np.mean(ucs420_venson)\n",
        "median=np.median(ucs420_venson)\n",
        "max=np.max(ucs420_venson)\n",
        "min=np.min(ucs420_venson)\n",
        "unique=np.unique(ucs420_venson)\n",
        "print(\"unique is \",unique)\n",
        "print(\"mean is \",mean)\n",
        "print(\"median is \",median)\n",
        "print(\"max is \",max)\n",
        "print(\"min is \",min)\n",
        "\n",
        "reshaped_ucs420_venson=ucs420_venson.reshape(4,3)\n",
        "print(\"reshaped is \",reshaped_ucs420_venson)\n",
        "\n",
        "resized_ucs420_venson=np.resize(ucs420_venson,(2,3))\n",
        "print(\"resized is \",resized_ucs420_venson)"
      ],
      "metadata": {
        "colab": {
          "base_uri": "https://localhost:8080/"
        },
        "id": "TmTZTEkIeZ6U",
        "outputId": "f8f257c0-c681-4cfe-b13b-7d8009f8140c"
      },
      "execution_count": 14,
      "outputs": [
        {
          "output_type": "stream",
          "name": "stdout",
          "text": [
            "unique is  [10 15 20 30 35 40 50 60 70 80 90]\n",
            "mean is  43.333333333333336\n",
            "median is  37.5\n",
            "max is  90\n",
            "min is  10\n",
            "reshaped is  [[10 20 30]\n",
            " [40 50 60]\n",
            " [70 80 90]\n",
            " [15 20 35]]\n",
            "resized is  [[10 20 30]\n",
            " [40 50 60]]\n"
          ]
        }
      ]
    }
  ]
}