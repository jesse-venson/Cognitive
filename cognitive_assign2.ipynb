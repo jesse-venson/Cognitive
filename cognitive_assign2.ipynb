{
  "nbformat": 4,
  "nbformat_minor": 0,
  "metadata": {
    "colab": {
      "provenance": [],
      "authorship_tag": "ABX9TyN4Sxqe2rJrKUrDgDR9U5Nj",
      "include_colab_link": true
    },
    "kernelspec": {
      "name": "python3",
      "display_name": "Python 3"
    },
    "language_info": {
      "name": "python"
    }
  },
  "cells": [
    {
      "cell_type": "markdown",
      "metadata": {
        "id": "view-in-github",
        "colab_type": "text"
      },
      "source": [
        "<a href=\"https://colab.research.google.com/github/jesse-venson/Cognitive/blob/main/cognitive_assign2.ipynb\" target=\"_parent\"><img src=\"https://colab.research.google.com/assets/colab-badge.svg\" alt=\"Open In Colab\"/></a>"
      ]
    },
    {
      "cell_type": "code",
      "execution_count": 1,
      "metadata": {
        "colab": {
          "base_uri": "https://localhost:8080/"
        },
        "id": "iTBlkjYtpUCR",
        "outputId": "8ef1e5cd-ce61-4b78-f2f9-4d96d2f2f113"
      },
      "outputs": [
        {
          "output_type": "stream",
          "name": "stdout",
          "text": [
            "After adding 200 and 300: [10, 20, 30, 40, 50, 60, 70, 80, 200, 300]\n",
            "After removing 10 and 30: [20, 40, 50, 60, 70, 80, 200, 300]\n",
            "Sorted in ascending order: [20, 40, 50, 60, 70, 80, 200, 300]\n",
            "Sorted in descending order: [300, 200, 80, 70, 60, 50, 40, 20]\n"
          ]
        }
      ],
      "source": [
        "#QUESTION 1\n",
        "L=[10, 20, 30, 40, 50, 60, 70, 80]\n",
        "L.append(200)\n",
        "L.append(300)\n",
        "print(\"After adding 200 and 300:\", L)\n",
        "L.remove(10)\n",
        "L.remove(30)\n",
        "print(\"After removing 10 and 30:\", L)\n",
        "L.sort()\n",
        "print(\"Sorted in ascending order:\", L)\n",
        "L.sort(reverse=True)\n",
        "print(\"Sorted in descending order:\", L)"
      ]
    },
    {
      "cell_type": "code",
      "source": [
        "#QUESTION 2\n",
        "scores = (45,89.5,76,45.4,89,92,58,45)\n",
        "print('Highest score is: ',max(scores))\n",
        "print('Highest score present at index: ',scores.index(max(scores)))\n",
        "print('Lowest score is: ',min(scores))\n",
        "print('Lowest score present for these many times: ',scores.count(min(scores)))\n",
        "reversed_list = list(reversed(scores))\n",
        "print('Reversed list: ',reversed_list)\n",
        "score_to_check=76\n",
        "if score_to_check in scores:\n",
        "    print(f'{score_to_check} is present in the tuple.')\n",
        "else:\n",
        "    print(f'{score_to_check} is not present in the tuple.')"
      ],
      "metadata": {
        "colab": {
          "base_uri": "https://localhost:8080/"
        },
        "id": "U4n-csnQrmK1",
        "outputId": "32ab261e-8531-4568-9336-c4eb1bec3352"
      },
      "execution_count": 2,
      "outputs": [
        {
          "output_type": "stream",
          "name": "stdout",
          "text": [
            "Highest score is:  92\n",
            "Highest score present at index:  5\n",
            "Lowest score is:  45\n",
            "Lowest score present for these many times:  2\n",
            "Reversed list:  [45, 58, 92, 89, 45.4, 76, 89.5, 45]\n",
            "76 is present in the tuple.\n"
          ]
        }
      ]
    },
    {
      "cell_type": "code",
      "source": [
        "#QUESTION 3\n",
        "import random\n",
        "number = [random.randint(100, 900) for i in range(100)]\n",
        "print(number)\n",
        "\n",
        "odd_no = []\n",
        "eve_no = []\n",
        "pr_no = []\n",
        "\n",
        "def is_prime(n):\n",
        "    if (n <= 1):\n",
        "        return False\n",
        "    for i in range(2, int(n**0.5) + 1):\n",
        "        if n % i == 0:\n",
        "            return False\n",
        "    return True\n",
        "\n",
        "\n",
        "for num in number:\n",
        "    if num % 2 == 0:\n",
        "        eve_no.append(num)\n",
        "    else:\n",
        "        odd_no.append(num)\n",
        "\n",
        "    if is_prime(num):\n",
        "        pr_no.append(num)\n",
        "\n",
        "print(\"Odd Numbers:\",odd_no )\n",
        "print(\"Even Numbers:\", eve_no)\n",
        "print(\"Prime Numbers:\", pr_no)\n",
        "print(\"Count of Odd Numbers:\", len(odd_no))\n",
        "print(\"Count of Even Numbers:\", len(eve_no))\n",
        "print(\"Count of Prime Numbers:\", len(pr_no))\n"
      ],
      "metadata": {
        "colab": {
          "base_uri": "https://localhost:8080/"
        },
        "id": "U_RQiPEqrzgC",
        "outputId": "faa193ad-ff2e-473f-ed66-29fa9b5f0dbf"
      },
      "execution_count": 3,
      "outputs": [
        {
          "output_type": "stream",
          "name": "stdout",
          "text": [
            "[153, 102, 526, 138, 137, 750, 299, 234, 854, 654, 290, 773, 179, 176, 757, 809, 419, 704, 865, 350, 408, 412, 438, 431, 281, 228, 297, 468, 688, 238, 488, 856, 431, 840, 458, 361, 809, 532, 628, 705, 358, 589, 203, 414, 521, 610, 600, 128, 337, 875, 559, 709, 328, 177, 340, 429, 326, 725, 533, 319, 727, 343, 418, 642, 443, 402, 554, 404, 186, 257, 849, 544, 248, 774, 820, 117, 430, 348, 567, 880, 706, 830, 576, 687, 371, 203, 395, 234, 282, 732, 216, 788, 859, 153, 130, 723, 783, 499, 348, 828]\n",
            "Odd Numbers: [153, 137, 299, 773, 179, 757, 809, 419, 865, 431, 281, 297, 431, 361, 809, 705, 589, 203, 521, 337, 875, 559, 709, 177, 429, 725, 533, 319, 727, 343, 443, 257, 849, 117, 567, 687, 371, 203, 395, 859, 153, 723, 783, 499]\n",
            "Even Numbers: [102, 526, 138, 750, 234, 854, 654, 290, 176, 704, 350, 408, 412, 438, 228, 468, 688, 238, 488, 856, 840, 458, 532, 628, 358, 414, 610, 600, 128, 328, 340, 326, 418, 642, 402, 554, 404, 186, 544, 248, 774, 820, 430, 348, 880, 706, 830, 576, 234, 282, 732, 216, 788, 130, 348, 828]\n",
            "Prime Numbers: [137, 773, 179, 757, 809, 419, 431, 281, 431, 809, 521, 337, 709, 727, 443, 257, 859, 499]\n",
            "Count of Odd Numbers: 44\n",
            "Count of Even Numbers: 56\n",
            "Count of Prime Numbers: 18\n"
          ]
        }
      ]
    },
    {
      "cell_type": "code",
      "source": [
        "#QUESTION 4\n",
        "A={34,56,78,90}\n",
        "B={78,45,90,23}\n",
        "print(\"The unique scores achieved by both teams: \",A.union(B))\n",
        "\n",
        "print(\"The scores that are common to both teams: \",A.intersection(B))\n",
        "\n",
        "print(\"The scores that are exclusive to each team: \",A^B)\n",
        "\n",
        "if A.issubset(B):\n",
        "  print(\"Set A is subset of the set B\")\n",
        "else:\n",
        "  print(\"Set A is not the subset of the set B\")\n",
        "if B.issuperset(A):\n",
        "  print(\"Set B is superset of the set A\")\n",
        "else:\n",
        "  print(\"Set B is not the superset of the set A\")\n",
        "\n",
        "searching_ele=int(input(\"Enter the search element: \"))\n",
        "if searching_ele in A:\n",
        "  print(\"The search element is present in the set\")\n",
        "else:\n",
        "  print(\"The search element is not present in the set\")"
      ],
      "metadata": {
        "colab": {
          "base_uri": "https://localhost:8080/"
        },
        "id": "Ttl7aQBMsRqv",
        "outputId": "82660302-f391-4bbe-95c7-a3ab290efc1d"
      },
      "execution_count": 4,
      "outputs": [
        {
          "output_type": "stream",
          "name": "stdout",
          "text": [
            "The unique scores achieved by both teams:  {34, 45, 78, 23, 56, 90}\n",
            "The scores that are common to both teams:  {90, 78}\n",
            "The scores that are exclusive to each team:  {34, 45, 23, 56}\n",
            "Set A is not the subset of the set B\n",
            "Set B is not the superset of the set A\n",
            "Enter the search element: 78\n",
            "The search element is present in the set\n"
          ]
        }
      ]
    },
    {
      "cell_type": "code",
      "source": [
        "#QUESTION 5\n",
        "sample_dict={\n",
        "    \"name\":\"venson\",\n",
        "    \"age\":18,\n",
        "    \"salary\":5000,\n",
        "    \"city\":\"New York\"\n",
        "}\n",
        "print(\"The original dictionary is: \")\n",
        "print(sample_dict)\n",
        "\n",
        "sample_dict.pop(\"city\")\n",
        "sample_dict[\"location\"]=\"New York\"\n",
        "print()\n",
        "print(\"After updation the new dictionary is : \")\n",
        "print (sample_dict)"
      ],
      "metadata": {
        "colab": {
          "base_uri": "https://localhost:8080/"
        },
        "id": "7V2jfBX0r0xN",
        "outputId": "c8bdfda7-3ff5-48c5-e815-b7dbf833970e"
      },
      "execution_count": 5,
      "outputs": [
        {
          "output_type": "stream",
          "name": "stdout",
          "text": [
            "The original dictionary is: \n",
            "{'name': 'venson', 'age': 18, 'salary': 5000, 'city': 'New York'}\n",
            "\n",
            "After updation the new dictionary is : \n",
            "{'name': 'venson', 'age': 18, 'salary': 5000, 'location': 'New York'}\n"
          ]
        }
      ]
    }
  ]
}